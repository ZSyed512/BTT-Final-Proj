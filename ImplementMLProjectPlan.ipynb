{
 "cells": [
  {
   "cell_type": "markdown",
   "metadata": {},
   "source": [
    "# Lab 8: Implement Your Machine Learning Project Plan"
   ]
  },
  {
   "cell_type": "markdown",
   "metadata": {},
   "source": [
    "In this lab assignment, you will implement the machine learning project plan you created in the written assignment. You will:\n",
    "\n",
    "1. Load your data set and save it to a Pandas DataFrame.\n",
    "2. Perform exploratory data analysis on your data to determine which feature engineering and data preparation techniques you will use.\n",
    "3. Prepare your data for your model and create features and a label.\n",
    "4. Fit your model to the training data and evaluate your model.\n",
    "5. Improve your model by performing model selection and/or feature selection techniques to find best model for your problem."
   ]
  },
  {
   "cell_type": "markdown",
   "metadata": {},
   "source": [
    "### Import Packages\n",
    "\n",
    "Before you get started, import a few packages."
   ]
  },
  {
   "cell_type": "code",
   "execution_count": 1,
   "metadata": {},
   "outputs": [],
   "source": [
    "import pandas as pd\n",
    "import numpy as np\n",
    "import os \n",
    "import matplotlib.pyplot as plt\n",
    "import seaborn as sns"
   ]
  },
  {
   "cell_type": "markdown",
   "metadata": {},
   "source": [
    "<b>Task:</b> In the code cell below, import additional packages that you have used in this course that you will need for this task."
   ]
  },
  {
   "cell_type": "code",
   "execution_count": 2,
   "metadata": {},
   "outputs": [],
   "source": [
    "# YOUR CODE HERE\n",
    "from sklearn.model_selection import train_test_split, GridSearchCV\n",
    "from sklearn.linear_model import LogisticRegression\n",
    "from sklearn.metrics import accuracy_score, confusion_matrix, precision_recall_curve\n"
   ]
  },
  {
   "cell_type": "markdown",
   "metadata": {},
   "source": [
    "## Part 1: Load the Data Set\n",
    "\n",
    "\n",
    "You have chosen to work with one of four data sets. The data sets are located in a folder named \"data.\" The file names of the three data sets are as follows:\n",
    "\n",
    "* The \"adult\" data set that contains Census information from 1994 is located in file `adultData.csv`\n",
    "* The airbnb NYC \"listings\" data set is located in file  `airbnbListingsData.csv`\n",
    "* The World Happiness Report (WHR) data set is located in file `WHR2018Chapter2OnlineData.csv`\n",
    "* The book review data set is located in file `bookReviewsData.csv`\n",
    "\n",
    "\n",
    "\n",
    "<b>Task:</b> In the code cell below, use the same method you have been using to load your data using `pd.read_csv()` and save it to DataFrame `df`."
   ]
  },
  {
   "cell_type": "code",
   "execution_count": 3,
   "metadata": {},
   "outputs": [],
   "source": [
    "# YOUR CODE HERE\n",
    "adultDataSet_filename = os.path.join(os.getcwd(), \"data\", \"adultData.csv\")\n",
    "df = pd.read_csv(adultDataSet_filename, header=0)\n"
   ]
  },
  {
   "cell_type": "markdown",
   "metadata": {},
   "source": [
    "## Part 2: Exploratory Data Analysis\n",
    "\n",
    "The next step is to inspect and analyze your data set with your machine learning problem and project plan in mind. \n",
    "\n",
    "This step will help you determine data preparation and feature engineering techniques you will need to apply to your data to build a balanced modeling data set for your problem and model. These data preparation techniques may include:\n",
    "* addressing missingness, such as replacing missing values with means\n",
    "* renaming features and labels\n",
    "* finding and replacing outliers\n",
    "* performing winsorization if needed\n",
    "* performing one-hot encoding on categorical features\n",
    "* performing vectorization for an NLP problem\n",
    "* addressing class imbalance in your data sample to promote fair AI\n",
    "\n",
    "\n",
    "Think of the different techniques you have used to inspect and analyze your data in this course. These include using Pandas to apply data filters, using the Pandas `describe()` method to get insight into key statistics for each column, using the Pandas `dtypes` property to inspect the data type of each column, and using Matplotlib and Seaborn to detect outliers and visualize relationships between features and labels. If you are working on a classification problem, use techniques you have learned to determine if there is class imbalance.\n",
    "\n",
    "\n",
    "<b>Task</b>: Use the techniques you have learned in this course to inspect and analyze your data. \n",
    "\n",
    "<b>Note</b>: You can add code cells if needed by going to the <b>Insert</b> menu and clicking on <b>Insert Cell Below</b> in the drop-drown menu."
   ]
  },
  {
   "cell_type": "code",
   "execution_count": 4,
   "metadata": {},
   "outputs": [
    {
     "data": {
      "text/plain": [
       "age               float64\n",
       "workclass          object\n",
       "fnlwgt              int64\n",
       "education          object\n",
       "education-num       int64\n",
       "marital-status     object\n",
       "occupation         object\n",
       "relationship       object\n",
       "race               object\n",
       "sex_selfID         object\n",
       "capital-gain        int64\n",
       "capital-loss        int64\n",
       "hours-per-week    float64\n",
       "native-country     object\n",
       "income_binary      object\n",
       "dtype: object"
      ]
     },
     "execution_count": 4,
     "metadata": {},
     "output_type": "execute_result"
    }
   ],
   "source": [
    "df.dtypes"
   ]
  },
  {
   "cell_type": "code",
   "execution_count": 5,
   "metadata": {},
   "outputs": [
    {
     "data": {
      "text/plain": [
       "age                True\n",
       "workclass          True\n",
       "fnlwgt            False\n",
       "education         False\n",
       "education-num     False\n",
       "marital-status    False\n",
       "occupation         True\n",
       "relationship      False\n",
       "race              False\n",
       "sex_selfID        False\n",
       "capital-gain      False\n",
       "capital-loss      False\n",
       "hours-per-week     True\n",
       "native-country     True\n",
       "income_binary     False\n",
       "dtype: bool"
      ]
     },
     "execution_count": 5,
     "metadata": {},
     "output_type": "execute_result"
    }
   ],
   "source": [
    "#identifying columns with missing values\n",
    "nan_count = np.sum(df.isnull(), axis = 0)\n",
    "nan_detected = nan_count!=0\n",
    "nan_detected"
   ]
  },
  {
   "cell_type": "code",
   "execution_count": 6,
   "metadata": {},
   "outputs": [
    {
     "data": {
      "text/plain": [
       "age                True\n",
       "workclass         False\n",
       "fnlwgt             True\n",
       "education         False\n",
       "education-num      True\n",
       "marital-status    False\n",
       "occupation        False\n",
       "relationship      False\n",
       "race              False\n",
       "sex_selfID        False\n",
       "capital-gain       True\n",
       "capital-loss       True\n",
       "hours-per-week     True\n",
       "native-country    False\n",
       "income_binary     False\n",
       "dtype: bool"
      ]
     },
     "execution_count": 6,
     "metadata": {},
     "output_type": "execute_result"
    }
   ],
   "source": [
    "is_int_or_float=df.dtypes!=object\n",
    "is_int_or_float"
   ]
  },
  {
   "cell_type": "code",
   "execution_count": 7,
   "metadata": {},
   "outputs": [
    {
     "data": {
      "text/plain": [
       "age                True\n",
       "workclass         False\n",
       "fnlwgt            False\n",
       "education         False\n",
       "education-num     False\n",
       "marital-status    False\n",
       "occupation        False\n",
       "relationship      False\n",
       "race              False\n",
       "sex_selfID        False\n",
       "capital-gain      False\n",
       "capital-loss      False\n",
       "hours-per-week     True\n",
       "native-country    False\n",
       "income_binary     False\n",
       "dtype: bool"
      ]
     },
     "execution_count": 7,
     "metadata": {},
     "output_type": "execute_result"
    }
   ],
   "source": [
    "to_impute=(is_int_or_float)&(nan_detected)\n",
    "to_impute"
   ]
  },
  {
   "cell_type": "code",
   "execution_count": 8,
   "metadata": {},
   "outputs": [
    {
     "data": {
      "text/plain": [
       "Index(['age', 'hours-per-week'], dtype='object')"
      ]
     },
     "execution_count": 8,
     "metadata": {},
     "output_type": "execute_result"
    }
   ],
   "source": [
    "df.columns[to_impute]"
   ]
  },
  {
   "cell_type": "code",
   "execution_count": 9,
   "metadata": {},
   "outputs": [],
   "source": [
    "to_impute_selected = ['age', 'hours-per-week']"
   ]
  },
  {
   "cell_type": "code",
   "execution_count": 10,
   "metadata": {},
   "outputs": [],
   "source": [
    "for colname in to_impute_selected:\n",
    "    df[colname+\"_na\"]=to_impute[colname]\n",
    "\n"
   ]
  },
  {
   "cell_type": "code",
   "execution_count": 11,
   "metadata": {},
   "outputs": [
    {
     "data": {
      "text/html": [
       "<div>\n",
       "<style scoped>\n",
       "    .dataframe tbody tr th:only-of-type {\n",
       "        vertical-align: middle;\n",
       "    }\n",
       "\n",
       "    .dataframe tbody tr th {\n",
       "        vertical-align: top;\n",
       "    }\n",
       "\n",
       "    .dataframe thead th {\n",
       "        text-align: right;\n",
       "    }\n",
       "</style>\n",
       "<table border=\"1\" class=\"dataframe\">\n",
       "  <thead>\n",
       "    <tr style=\"text-align: right;\">\n",
       "      <th></th>\n",
       "      <th>age</th>\n",
       "      <th>workclass</th>\n",
       "      <th>fnlwgt</th>\n",
       "      <th>education</th>\n",
       "      <th>education-num</th>\n",
       "      <th>marital-status</th>\n",
       "      <th>occupation</th>\n",
       "      <th>relationship</th>\n",
       "      <th>race</th>\n",
       "      <th>sex_selfID</th>\n",
       "      <th>capital-gain</th>\n",
       "      <th>capital-loss</th>\n",
       "      <th>hours-per-week</th>\n",
       "      <th>native-country</th>\n",
       "      <th>income_binary</th>\n",
       "      <th>age_na</th>\n",
       "      <th>hours-per-week_na</th>\n",
       "    </tr>\n",
       "  </thead>\n",
       "  <tbody>\n",
       "    <tr>\n",
       "      <th>0</th>\n",
       "      <td>39.0</td>\n",
       "      <td>State-gov</td>\n",
       "      <td>77516</td>\n",
       "      <td>Bachelors</td>\n",
       "      <td>13</td>\n",
       "      <td>Never-married</td>\n",
       "      <td>Adm-clerical</td>\n",
       "      <td>Not-in-family</td>\n",
       "      <td>White</td>\n",
       "      <td>Non-Female</td>\n",
       "      <td>2174</td>\n",
       "      <td>0</td>\n",
       "      <td>40.0</td>\n",
       "      <td>United-States</td>\n",
       "      <td>&lt;=50K</td>\n",
       "      <td>True</td>\n",
       "      <td>True</td>\n",
       "    </tr>\n",
       "    <tr>\n",
       "      <th>1</th>\n",
       "      <td>50.0</td>\n",
       "      <td>Self-emp-not-inc</td>\n",
       "      <td>83311</td>\n",
       "      <td>Bachelors</td>\n",
       "      <td>13</td>\n",
       "      <td>Married-civ-spouse</td>\n",
       "      <td>Exec-managerial</td>\n",
       "      <td>Husband</td>\n",
       "      <td>White</td>\n",
       "      <td>Non-Female</td>\n",
       "      <td>0</td>\n",
       "      <td>0</td>\n",
       "      <td>13.0</td>\n",
       "      <td>United-States</td>\n",
       "      <td>&lt;=50K</td>\n",
       "      <td>True</td>\n",
       "      <td>True</td>\n",
       "    </tr>\n",
       "    <tr>\n",
       "      <th>2</th>\n",
       "      <td>38.0</td>\n",
       "      <td>Private</td>\n",
       "      <td>215646</td>\n",
       "      <td>HS-grad</td>\n",
       "      <td>9</td>\n",
       "      <td>Divorced</td>\n",
       "      <td>Handlers-cleaners</td>\n",
       "      <td>Not-in-family</td>\n",
       "      <td>White</td>\n",
       "      <td>Non-Female</td>\n",
       "      <td>0</td>\n",
       "      <td>0</td>\n",
       "      <td>40.0</td>\n",
       "      <td>United-States</td>\n",
       "      <td>&lt;=50K</td>\n",
       "      <td>True</td>\n",
       "      <td>True</td>\n",
       "    </tr>\n",
       "    <tr>\n",
       "      <th>3</th>\n",
       "      <td>53.0</td>\n",
       "      <td>Private</td>\n",
       "      <td>234721</td>\n",
       "      <td>11th</td>\n",
       "      <td>7</td>\n",
       "      <td>Married-civ-spouse</td>\n",
       "      <td>Handlers-cleaners</td>\n",
       "      <td>Husband</td>\n",
       "      <td>Black</td>\n",
       "      <td>Non-Female</td>\n",
       "      <td>0</td>\n",
       "      <td>0</td>\n",
       "      <td>40.0</td>\n",
       "      <td>United-States</td>\n",
       "      <td>&lt;=50K</td>\n",
       "      <td>True</td>\n",
       "      <td>True</td>\n",
       "    </tr>\n",
       "    <tr>\n",
       "      <th>4</th>\n",
       "      <td>28.0</td>\n",
       "      <td>Private</td>\n",
       "      <td>338409</td>\n",
       "      <td>Bachelors</td>\n",
       "      <td>13</td>\n",
       "      <td>Married-civ-spouse</td>\n",
       "      <td>Prof-specialty</td>\n",
       "      <td>Wife</td>\n",
       "      <td>Black</td>\n",
       "      <td>Female</td>\n",
       "      <td>0</td>\n",
       "      <td>0</td>\n",
       "      <td>40.0</td>\n",
       "      <td>Cuba</td>\n",
       "      <td>&lt;=50K</td>\n",
       "      <td>True</td>\n",
       "      <td>True</td>\n",
       "    </tr>\n",
       "  </tbody>\n",
       "</table>\n",
       "</div>"
      ],
      "text/plain": [
       "    age         workclass  fnlwgt  education  education-num  \\\n",
       "0  39.0         State-gov   77516  Bachelors             13   \n",
       "1  50.0  Self-emp-not-inc   83311  Bachelors             13   \n",
       "2  38.0           Private  215646    HS-grad              9   \n",
       "3  53.0           Private  234721       11th              7   \n",
       "4  28.0           Private  338409  Bachelors             13   \n",
       "\n",
       "       marital-status         occupation   relationship   race  sex_selfID  \\\n",
       "0       Never-married       Adm-clerical  Not-in-family  White  Non-Female   \n",
       "1  Married-civ-spouse    Exec-managerial        Husband  White  Non-Female   \n",
       "2            Divorced  Handlers-cleaners  Not-in-family  White  Non-Female   \n",
       "3  Married-civ-spouse  Handlers-cleaners        Husband  Black  Non-Female   \n",
       "4  Married-civ-spouse     Prof-specialty           Wife  Black      Female   \n",
       "\n",
       "   capital-gain  capital-loss  hours-per-week native-country income_binary  \\\n",
       "0          2174             0            40.0  United-States         <=50K   \n",
       "1             0             0            13.0  United-States         <=50K   \n",
       "2             0             0            40.0  United-States         <=50K   \n",
       "3             0             0            40.0  United-States         <=50K   \n",
       "4             0             0            40.0           Cuba         <=50K   \n",
       "\n",
       "   age_na  hours-per-week_na  \n",
       "0    True               True  \n",
       "1    True               True  \n",
       "2    True               True  \n",
       "3    True               True  \n",
       "4    True               True  "
      ]
     },
     "execution_count": 11,
     "metadata": {},
     "output_type": "execute_result"
    }
   ],
   "source": [
    "df.head()"
   ]
  },
  {
   "cell_type": "code",
   "execution_count": 12,
   "metadata": {},
   "outputs": [],
   "source": [
    "#Replacing missing values with mean for columns age and hours per week\n",
    "mean_age=df['age'].mean()\n",
    "df['age'].fillna(value=mean_age, inplace=True)\n",
    "mean_hours_per_week=df['hours-per-week'].mean()\n",
    "df['hours-per-week'].fillna(value=mean_hours_per_week, inplace=True)"
   ]
  },
  {
   "cell_type": "code",
   "execution_count": 13,
   "metadata": {},
   "outputs": [
    {
     "name": "stdout",
     "output_type": "stream",
     "text": [
      "age missing values count :0\n",
      "hours-per-week missing values count :0\n"
     ]
    }
   ],
   "source": [
    "for colname in to_impute_selected:\n",
    "    print(\"{} missing values count :{}\".format(colname, np.sum(df[colname].isnull(), axis = 0)))"
   ]
  },
  {
   "cell_type": "code",
   "execution_count": 14,
   "metadata": {},
   "outputs": [
    {
     "name": "stdout",
     "output_type": "stream",
     "text": [
      "['workclass', 'education', 'marital-status', 'occupation', 'relationship', 'race', 'sex_selfID', 'native-country', 'income_binary']\n"
     ]
    }
   ],
   "source": [
    "#One hot encoding categorical values\n",
    "to_encode = list(df.select_dtypes(include=['object']).columns)\n",
    "print(to_encode)\n"
   ]
  },
  {
   "cell_type": "code",
   "execution_count": 15,
   "metadata": {},
   "outputs": [
    {
     "data": {
      "text/plain": [
       "workclass          8\n",
       "education         16\n",
       "marital-status     7\n",
       "occupation        14\n",
       "relationship       6\n",
       "race               5\n",
       "sex_selfID         2\n",
       "native-country    41\n",
       "income_binary      2\n",
       "dtype: int64"
      ]
     },
     "execution_count": 15,
     "metadata": {},
     "output_type": "execute_result"
    }
   ],
   "source": [
    "df[to_encode].nunique()"
   ]
  },
  {
   "cell_type": "code",
   "execution_count": 16,
   "metadata": {},
   "outputs": [],
   "source": [
    "#performing one hot encoding for 8 features, creating new columns and adding them to the dataframe, removing the old columns\n",
    "df_workclass = pd.get_dummies(df['workclass'], prefix='workclass_')\n",
    "df = df.join(df_workclass)\n",
    "df.drop(columns = 'workclass', inplace=True)\n",
    "\n",
    "df_education = pd.get_dummies(df['education'], prefix='education_')\n",
    "df = df.join(df_education)\n",
    "df.drop(columns = 'education', inplace=True)\n",
    "\n",
    "df_marital_status = pd.get_dummies(df['marital-status'], prefix='marital-status_')\n",
    "df = df.join(df_marital_status)\n",
    "df.drop(columns = 'marital-status', inplace=True)\n",
    "\n",
    "df_occupation = pd.get_dummies(df['occupation'], prefix='occupation_')\n",
    "df = df.join(df_occupation)\n",
    "df.drop(columns = 'occupation', inplace=True)\n",
    "\n",
    "df_relationship = pd.get_dummies(df['relationship'], prefix='relationship_')\n",
    "df = df.join(df_relationship)\n",
    "df.drop(columns = 'relationship', inplace=True)\n",
    "\n",
    "df_race = pd.get_dummies(df['race'], prefix='race_')\n",
    "df = df.join(df_race)\n",
    "df.drop(columns = 'race', inplace=True)\n",
    "\n",
    "df_sex_selfID = pd.get_dummies(df['sex_selfID'], prefix='sex_selfID_')\n",
    "df = df.join(df_sex_selfID)\n",
    "df.drop(columns = 'sex_selfID', inplace=True)\n",
    "\n",
    "df_native_country = pd.get_dummies(df['native-country'], prefix='native-country_')\n",
    "df = df.join(df_native_country)\n",
    "df.drop(columns = 'native-country', inplace=True)\n"
   ]
  },
  {
   "cell_type": "code",
   "execution_count": 17,
   "metadata": {},
   "outputs": [
    {
     "data": {
      "text/plain": [
       "Index(['age', 'fnlwgt', 'education-num', 'capital-gain', 'capital-loss',\n",
       "       'hours-per-week', 'income_binary', 'age_na', 'hours-per-week_na',\n",
       "       'workclass__Federal-gov',\n",
       "       ...\n",
       "       'native-country__Portugal', 'native-country__Puerto-Rico',\n",
       "       'native-country__Scotland', 'native-country__South',\n",
       "       'native-country__Taiwan', 'native-country__Thailand',\n",
       "       'native-country__Trinadad&Tobago', 'native-country__United-States',\n",
       "       'native-country__Vietnam', 'native-country__Yugoslavia'],\n",
       "      dtype='object', length=108)"
      ]
     },
     "execution_count": 17,
     "metadata": {},
     "output_type": "execute_result"
    }
   ],
   "source": [
    "df.columns"
   ]
  },
  {
   "cell_type": "markdown",
   "metadata": {},
   "source": [
    "## Part 3: Implement Your Project Plan\n",
    "\n",
    "<b>Task:</b> Use the rest of this notebook to carry out your project plan. You will:\n",
    "\n",
    "1. Prepare your data for your model and create features and a label.\n",
    "2. Fit your model to the training data and evaluate your model.\n",
    "3. Improve your model by performing model selection and/or feature selection techniques to find best model for your problem.\n",
    "\n",
    "\n",
    "Add code cells below and populate the notebook with commentary, code, analyses, results, and figures as you see fit."
   ]
  },
  {
   "cell_type": "code",
   "execution_count": 18,
   "metadata": {},
   "outputs": [],
   "source": [
    "#Creating label(income_binary column) and all other columns will be features\n",
    "y = df['income_binary']\n",
    "X = df.drop(columns = 'income_binary', axis=1)"
   ]
  },
  {
   "cell_type": "code",
   "execution_count": 19,
   "metadata": {},
   "outputs": [],
   "source": [
    "X_train, X_test, y_train, y_test = train_test_split(X, y, test_size=0.10, random_state=1234)"
   ]
  },
  {
   "cell_type": "code",
   "execution_count": 20,
   "metadata": {},
   "outputs": [
    {
     "data": {
      "text/html": [
       "<div>\n",
       "<style scoped>\n",
       "    .dataframe tbody tr th:only-of-type {\n",
       "        vertical-align: middle;\n",
       "    }\n",
       "\n",
       "    .dataframe tbody tr th {\n",
       "        vertical-align: top;\n",
       "    }\n",
       "\n",
       "    .dataframe thead th {\n",
       "        text-align: right;\n",
       "    }\n",
       "</style>\n",
       "<table border=\"1\" class=\"dataframe\">\n",
       "  <thead>\n",
       "    <tr style=\"text-align: right;\">\n",
       "      <th></th>\n",
       "      <th>age</th>\n",
       "      <th>fnlwgt</th>\n",
       "      <th>education-num</th>\n",
       "      <th>capital-gain</th>\n",
       "      <th>capital-loss</th>\n",
       "      <th>hours-per-week</th>\n",
       "      <th>age_na</th>\n",
       "      <th>hours-per-week_na</th>\n",
       "      <th>workclass__Federal-gov</th>\n",
       "      <th>workclass__Local-gov</th>\n",
       "      <th>...</th>\n",
       "      <th>native-country__Portugal</th>\n",
       "      <th>native-country__Puerto-Rico</th>\n",
       "      <th>native-country__Scotland</th>\n",
       "      <th>native-country__South</th>\n",
       "      <th>native-country__Taiwan</th>\n",
       "      <th>native-country__Thailand</th>\n",
       "      <th>native-country__Trinadad&amp;Tobago</th>\n",
       "      <th>native-country__United-States</th>\n",
       "      <th>native-country__Vietnam</th>\n",
       "      <th>native-country__Yugoslavia</th>\n",
       "    </tr>\n",
       "  </thead>\n",
       "  <tbody>\n",
       "    <tr>\n",
       "      <th>12913</th>\n",
       "      <td>45.0</td>\n",
       "      <td>77927</td>\n",
       "      <td>13</td>\n",
       "      <td>0</td>\n",
       "      <td>0</td>\n",
       "      <td>40.0</td>\n",
       "      <td>True</td>\n",
       "      <td>True</td>\n",
       "      <td>0</td>\n",
       "      <td>0</td>\n",
       "      <td>...</td>\n",
       "      <td>0</td>\n",
       "      <td>0</td>\n",
       "      <td>0</td>\n",
       "      <td>0</td>\n",
       "      <td>0</td>\n",
       "      <td>0</td>\n",
       "      <td>0</td>\n",
       "      <td>0</td>\n",
       "      <td>0</td>\n",
       "      <td>0</td>\n",
       "    </tr>\n",
       "    <tr>\n",
       "      <th>13106</th>\n",
       "      <td>34.0</td>\n",
       "      <td>188245</td>\n",
       "      <td>9</td>\n",
       "      <td>0</td>\n",
       "      <td>0</td>\n",
       "      <td>35.0</td>\n",
       "      <td>True</td>\n",
       "      <td>True</td>\n",
       "      <td>0</td>\n",
       "      <td>1</td>\n",
       "      <td>...</td>\n",
       "      <td>0</td>\n",
       "      <td>0</td>\n",
       "      <td>0</td>\n",
       "      <td>0</td>\n",
       "      <td>0</td>\n",
       "      <td>0</td>\n",
       "      <td>0</td>\n",
       "      <td>1</td>\n",
       "      <td>0</td>\n",
       "      <td>0</td>\n",
       "    </tr>\n",
       "    <tr>\n",
       "      <th>2505</th>\n",
       "      <td>57.0</td>\n",
       "      <td>73309</td>\n",
       "      <td>9</td>\n",
       "      <td>0</td>\n",
       "      <td>0</td>\n",
       "      <td>55.0</td>\n",
       "      <td>True</td>\n",
       "      <td>True</td>\n",
       "      <td>0</td>\n",
       "      <td>0</td>\n",
       "      <td>...</td>\n",
       "      <td>0</td>\n",
       "      <td>0</td>\n",
       "      <td>0</td>\n",
       "      <td>0</td>\n",
       "      <td>0</td>\n",
       "      <td>0</td>\n",
       "      <td>0</td>\n",
       "      <td>1</td>\n",
       "      <td>0</td>\n",
       "      <td>0</td>\n",
       "    </tr>\n",
       "    <tr>\n",
       "      <th>12842</th>\n",
       "      <td>24.0</td>\n",
       "      <td>450695</td>\n",
       "      <td>12</td>\n",
       "      <td>0</td>\n",
       "      <td>0</td>\n",
       "      <td>35.0</td>\n",
       "      <td>True</td>\n",
       "      <td>True</td>\n",
       "      <td>0</td>\n",
       "      <td>0</td>\n",
       "      <td>...</td>\n",
       "      <td>0</td>\n",
       "      <td>0</td>\n",
       "      <td>0</td>\n",
       "      <td>0</td>\n",
       "      <td>0</td>\n",
       "      <td>0</td>\n",
       "      <td>0</td>\n",
       "      <td>1</td>\n",
       "      <td>0</td>\n",
       "      <td>0</td>\n",
       "    </tr>\n",
       "    <tr>\n",
       "      <th>24846</th>\n",
       "      <td>47.0</td>\n",
       "      <td>266275</td>\n",
       "      <td>9</td>\n",
       "      <td>0</td>\n",
       "      <td>0</td>\n",
       "      <td>40.0</td>\n",
       "      <td>True</td>\n",
       "      <td>True</td>\n",
       "      <td>0</td>\n",
       "      <td>0</td>\n",
       "      <td>...</td>\n",
       "      <td>0</td>\n",
       "      <td>0</td>\n",
       "      <td>0</td>\n",
       "      <td>0</td>\n",
       "      <td>0</td>\n",
       "      <td>0</td>\n",
       "      <td>0</td>\n",
       "      <td>1</td>\n",
       "      <td>0</td>\n",
       "      <td>0</td>\n",
       "    </tr>\n",
       "  </tbody>\n",
       "</table>\n",
       "<p>5 rows × 107 columns</p>\n",
       "</div>"
      ],
      "text/plain": [
       "        age  fnlwgt  education-num  capital-gain  capital-loss  \\\n",
       "12913  45.0   77927             13             0             0   \n",
       "13106  34.0  188245              9             0             0   \n",
       "2505   57.0   73309              9             0             0   \n",
       "12842  24.0  450695             12             0             0   \n",
       "24846  47.0  266275              9             0             0   \n",
       "\n",
       "       hours-per-week  age_na  hours-per-week_na  workclass__Federal-gov  \\\n",
       "12913            40.0    True               True                       0   \n",
       "13106            35.0    True               True                       0   \n",
       "2505             55.0    True               True                       0   \n",
       "12842            35.0    True               True                       0   \n",
       "24846            40.0    True               True                       0   \n",
       "\n",
       "       workclass__Local-gov  ...  native-country__Portugal  \\\n",
       "12913                     0  ...                         0   \n",
       "13106                     1  ...                         0   \n",
       "2505                      0  ...                         0   \n",
       "12842                     0  ...                         0   \n",
       "24846                     0  ...                         0   \n",
       "\n",
       "       native-country__Puerto-Rico  native-country__Scotland  \\\n",
       "12913                            0                         0   \n",
       "13106                            0                         0   \n",
       "2505                             0                         0   \n",
       "12842                            0                         0   \n",
       "24846                            0                         0   \n",
       "\n",
       "       native-country__South  native-country__Taiwan  \\\n",
       "12913                      0                       0   \n",
       "13106                      0                       0   \n",
       "2505                       0                       0   \n",
       "12842                      0                       0   \n",
       "24846                      0                       0   \n",
       "\n",
       "       native-country__Thailand  native-country__Trinadad&Tobago  \\\n",
       "12913                         0                                0   \n",
       "13106                         0                                0   \n",
       "2505                          0                                0   \n",
       "12842                         0                                0   \n",
       "24846                         0                                0   \n",
       "\n",
       "       native-country__United-States  native-country__Vietnam  \\\n",
       "12913                              0                        0   \n",
       "13106                              1                        0   \n",
       "2505                               1                        0   \n",
       "12842                              1                        0   \n",
       "24846                              1                        0   \n",
       "\n",
       "       native-country__Yugoslavia  \n",
       "12913                           0  \n",
       "13106                           0  \n",
       "2505                            0  \n",
       "12842                           0  \n",
       "24846                           0  \n",
       "\n",
       "[5 rows x 107 columns]"
      ]
     },
     "execution_count": 20,
     "metadata": {},
     "output_type": "execute_result"
    }
   ],
   "source": [
    "X_train.head()"
   ]
  },
  {
   "cell_type": "code",
   "execution_count": 21,
   "metadata": {},
   "outputs": [
    {
     "data": {
      "text/plain": [
       "LogisticRegression(C=1.0, class_weight=None, dual=False, fit_intercept=True,\n",
       "                   intercept_scaling=1, l1_ratio=None, max_iter=1000,\n",
       "                   multi_class='auto', n_jobs=None, penalty='l2',\n",
       "                   random_state=None, solver='lbfgs', tol=0.0001, verbose=0,\n",
       "                   warm_start=False)"
      ]
     },
     "execution_count": 21,
     "metadata": {},
     "output_type": "execute_result"
    }
   ],
   "source": [
    "#Fitting and evaluating a Logistic regression model with the default hyperparameter values\n",
    "model_default=LogisticRegression(max_iter=1000)\n",
    "\n",
    "model_default.fit(X_train,y_train)"
   ]
  },
  {
   "cell_type": "code",
   "execution_count": 22,
   "metadata": {},
   "outputs": [],
   "source": [
    "#testing the model on x_test\n",
    "proba_predictions_default=model_default.predict_proba(X_test)[:,1]\n",
    "\n",
    "class_label_predictions_default=model_default.predict(X_test)"
   ]
  },
  {
   "cell_type": "code",
   "execution_count": 23,
   "metadata": {},
   "outputs": [
    {
     "name": "stdout",
     "output_type": "stream",
     "text": [
      "Accuracy score: 0.8081056186674854\n",
      "Confusion Matrix for the model: \n"
     ]
    },
    {
     "data": {
      "text/html": [
       "<div>\n",
       "<style scoped>\n",
       "    .dataframe tbody tr th:only-of-type {\n",
       "        vertical-align: middle;\n",
       "    }\n",
       "\n",
       "    .dataframe tbody tr th {\n",
       "        vertical-align: top;\n",
       "    }\n",
       "\n",
       "    .dataframe thead th {\n",
       "        text-align: right;\n",
       "    }\n",
       "</style>\n",
       "<table border=\"1\" class=\"dataframe\">\n",
       "  <thead>\n",
       "    <tr style=\"text-align: right;\">\n",
       "      <th></th>\n",
       "      <th>Predicted: Income&gt;50k</th>\n",
       "      <th>Predicted: Income&lt;=50k</th>\n",
       "    </tr>\n",
       "  </thead>\n",
       "  <tbody>\n",
       "    <tr>\n",
       "      <th>Actual: Income&gt;50k</th>\n",
       "      <td>224</td>\n",
       "      <td>553</td>\n",
       "    </tr>\n",
       "    <tr>\n",
       "      <th>Actual: Income&lt;=50k</th>\n",
       "      <td>72</td>\n",
       "      <td>2408</td>\n",
       "    </tr>\n",
       "  </tbody>\n",
       "</table>\n",
       "</div>"
      ],
      "text/plain": [
       "                     Predicted: Income>50k  Predicted: Income<=50k\n",
       "Actual: Income>50k                     224                     553\n",
       "Actual: Income<=50k                     72                    2408"
      ]
     },
     "execution_count": 23,
     "metadata": {},
     "output_type": "execute_result"
    }
   ],
   "source": [
    "#Evaluating the accuracy of the model with a confusion matrix\n",
    "acc_score=accuracy_score(y_test,class_label_predictions_default)\n",
    "print('Accuracy score: ' + str(acc_score))\n",
    "\n",
    "c_m=confusion_matrix(y_test,class_label_predictions_default,labels=['>50K','<=50K'])\n",
    "\n",
    "print('Confusion Matrix for the model: ')\n",
    "\n",
    "pd.DataFrame(c_m,columns=['Predicted: Income>50k','Predicted: Income<=50k'],index=['Actual: Income>50k','Actual: Income<=50k'])"
   ]
  },
  {
   "cell_type": "code",
   "execution_count": 24,
   "metadata": {},
   "outputs": [],
   "source": [
    "#Selecting a logistic regression model using gridsearchsv"
   ]
  },
  {
   "cell_type": "code",
   "execution_count": 25,
   "metadata": {},
   "outputs": [
    {
     "data": {
      "text/plain": [
       "{'C': [6.895228456089593e-10,\n",
       "  2.019367333977605e-09,\n",
       "  5.914009166635267e-09,\n",
       "  1.7320030801010195e-08,\n",
       "  5.072421406452021e-08,\n",
       "  1.4855319381494412e-07,\n",
       "  4.3505950362385504e-07,\n",
       "  1.2741346505765568e-06,\n",
       "  3.7314875190117093e-06,\n",
       "  1.0928200640520553e-05,\n",
       "  3.200481540699456e-05,\n",
       "  9.373072868352866e-05,\n",
       "  0.0002745039890973785,\n",
       "  0.0008039246156379828,\n",
       "  0.002354409455956612,\n",
       "  0.006895228456089593]}"
      ]
     },
     "execution_count": 25,
     "metadata": {},
     "output_type": "execute_result"
    }
   ],
   "source": [
    "from sklearn.svm import l1_min_c\n",
    "\n",
    "cs = l1_min_c(X_train, y_train, loss=\"log\") * np.logspace(0, 7, 16)\n",
    "param_grid = dict(C = list(cs))\n",
    "param_grid"
   ]
  },
  {
   "cell_type": "code",
   "execution_count": 26,
   "metadata": {},
   "outputs": [
    {
     "name": "stdout",
     "output_type": "stream",
     "text": [
      "Running Grid Search...\n",
      "Done\n"
     ]
    }
   ],
   "source": [
    "print('Running Grid Search...')\n",
    "\n",
    "model=LogisticRegression(max_iter=1000)\n",
    "\n",
    "grid=GridSearchCV(model,param_grid,cv=5)\n",
    "\n",
    "grid_search=grid.fit(X_train,y_train)\n",
    "print('Done')"
   ]
  },
  {
   "cell_type": "code",
   "execution_count": 27,
   "metadata": {},
   "outputs": [
    {
     "data": {
      "text/plain": [
       "{'C': 0.0002745039890973785}"
      ]
     },
     "execution_count": 27,
     "metadata": {},
     "output_type": "execute_result"
    }
   ],
   "source": [
    "#Obtaining the best value for c, which is 0.0002745039890973785\n",
    "best_c=grid.best_params_\n",
    "best_c"
   ]
  },
  {
   "cell_type": "code",
   "execution_count": 28,
   "metadata": {},
   "outputs": [],
   "source": [
    "#Fitting and evaluating the optimal Logistic regression model"
   ]
  },
  {
   "cell_type": "code",
   "execution_count": 29,
   "metadata": {},
   "outputs": [
    {
     "data": {
      "text/plain": [
       "LogisticRegression(C=0.0002745039890973785, class_weight=None, dual=False,\n",
       "                   fit_intercept=True, intercept_scaling=1, l1_ratio=None,\n",
       "                   max_iter=1000, multi_class='auto', n_jobs=None, penalty='l2',\n",
       "                   random_state=None, solver='lbfgs', tol=0.0001, verbose=0,\n",
       "                   warm_start=False)"
      ]
     },
     "execution_count": 29,
     "metadata": {},
     "output_type": "execute_result"
    }
   ],
   "source": [
    "model_best=LogisticRegression(C=0.0002745039890973785,max_iter=1000)\n",
    "model_best.fit(X_train,y_train)"
   ]
  },
  {
   "cell_type": "code",
   "execution_count": 30,
   "metadata": {},
   "outputs": [],
   "source": [
    "#Testing the model on the test set\n",
    "proba_predictions_best=model_best.predict_proba(X_test)[:,1]\n",
    "class_label_predictions_best=model_best.predict(X_test)"
   ]
  },
  {
   "cell_type": "code",
   "execution_count": 31,
   "metadata": {},
   "outputs": [
    {
     "name": "stdout",
     "output_type": "stream",
     "text": [
      "Accuracy score: 0.8081056186674854\n",
      "Confusion Matrix for the model: \n"
     ]
    },
    {
     "data": {
      "text/html": [
       "<div>\n",
       "<style scoped>\n",
       "    .dataframe tbody tr th:only-of-type {\n",
       "        vertical-align: middle;\n",
       "    }\n",
       "\n",
       "    .dataframe tbody tr th {\n",
       "        vertical-align: top;\n",
       "    }\n",
       "\n",
       "    .dataframe thead th {\n",
       "        text-align: right;\n",
       "    }\n",
       "</style>\n",
       "<table border=\"1\" class=\"dataframe\">\n",
       "  <thead>\n",
       "    <tr style=\"text-align: right;\">\n",
       "      <th></th>\n",
       "      <th>Predicted: Income&gt;50k</th>\n",
       "      <th>Predicted: Income&lt;=50k</th>\n",
       "    </tr>\n",
       "  </thead>\n",
       "  <tbody>\n",
       "    <tr>\n",
       "      <th>Actual: Income&gt;50k</th>\n",
       "      <td>224</td>\n",
       "      <td>553</td>\n",
       "    </tr>\n",
       "    <tr>\n",
       "      <th>Actual: Income&lt;=50k</th>\n",
       "      <td>72</td>\n",
       "      <td>2408</td>\n",
       "    </tr>\n",
       "  </tbody>\n",
       "</table>\n",
       "</div>"
      ],
      "text/plain": [
       "                     Predicted: Income>50k  Predicted: Income<=50k\n",
       "Actual: Income>50k                     224                     553\n",
       "Actual: Income<=50k                     72                    2408"
      ]
     },
     "execution_count": 31,
     "metadata": {},
     "output_type": "execute_result"
    }
   ],
   "source": [
    "#Evaluating the accuracy of the model with a confusion matrix\n",
    "acc_score=accuracy_score(y_test,class_label_predictions_best)\n",
    "print('Accuracy score: ' + str(acc_score))\n",
    "\n",
    "c_m=confusion_matrix(y_test,class_label_predictions_best,labels=['>50K','<=50K'])\n",
    "\n",
    "print('Confusion Matrix for the model: ')\n",
    "pd.DataFrame(c_m,columns=['Predicted: Income>50k','Predicted: Income<=50k'],index=['Actual: Income>50k','Actual: Income<=50k'])"
   ]
  },
  {
   "cell_type": "code",
   "execution_count": 32,
   "metadata": {},
   "outputs": [],
   "source": [
    "#Plotting precision recall for both models\n",
    "precision_default, recall_default, thresholds_default = precision_recall_curve(y_test,proba_predictions_default,pos_label='>50K')\n",
    "precision_best, recall_best, thresholds_best = precision_recall_curve(y_test,proba_predictions_best,pos_label='>50K')\n"
   ]
  },
  {
   "cell_type": "code",
   "execution_count": 33,
   "metadata": {},
   "outputs": [
    {
     "data": {
      "image/png": "[encoded data removed]",
      "text/plain": [
       "<Figure size 432x288 with 1 Axes>"
      ]
     },
     "metadata": {
      "needs_background": "light"
     },
     "output_type": "display_data"
    }
   ],
   "source": [
    "fig = plt.figure()\n",
    "ax = fig.add_subplot(111)\n",
    "\n",
    "sns.lineplot(x=recall_default, y=precision_default, marker = 'o',color='green')\n",
    "sns.lineplot(x=recall_best, y=precision_best, marker = 'o',color='red')\n",
    "plt.title(\"Precision-recall curve\")\n",
    "plt.xlabel(\"Recall\")\n",
    "plt.ylabel(\"Precision\")\n",
    "plt.show()"
   ]
  },
  {
   "cell_type": "code",
   "execution_count": 34,
   "metadata": {},
   "outputs": [],
   "source": [
    "#Plotting roc curves and computing auc for both models\n",
    "from sklearn.metrics import roc_curve\n",
    "from sklearn.metrics import auc"
   ]
  },
  {
   "cell_type": "code",
   "execution_count": 35,
   "metadata": {},
   "outputs": [],
   "source": [
    "fpr_default, tpr_default, thresholds_default = roc_curve(y_test,proba_predictions_default,pos_label='>50K')\n",
    "fpr_best, tpr_best, thresholds_best = roc_curve(y_test,proba_predictions_best,pos_label='>50K')"
   ]
  },
  {
   "cell_type": "code",
   "execution_count": 36,
   "metadata": {},
   "outputs": [
    {
     "data": {
      "image/png": "[encoded data removed]",
      "text/plain": [
       "<Figure size 432x288 with 1 Axes>"
      ]
     },
     "metadata": {
      "needs_background": "light"
     },
     "output_type": "display_data"
    }
   ],
   "source": [
    "#ROC curve for default hyperparameter\n",
    "fig = plt.figure()\n",
    "ax = fig.add_subplot(111)\n",
    "\n",
    "sns.lineplot(x=fpr_default, y=tpr_default, marker = 'o',color='green')\n",
    "plt.title(\"Receiver operating characteristic(ROC) curve\")\n",
    "plt.xlabel(\"False positive rate\")\n",
    "plt.ylabel(\"True positive rate\")\n",
    "plt.legend(labels=['Default Hyperparameter Value'])\n",
    "plt.show()"
   ]
  },
  {
   "cell_type": "code",
   "execution_count": 37,
   "metadata": {},
   "outputs": [
    {
     "data": {
      "image/png": "[encoded data removed]",
      "text/plain": [
       "<Figure size 432x288 with 1 Axes>"
      ]
     },
     "metadata": {
      "needs_background": "light"
     },
     "output_type": "display_data"
    }
   ],
   "source": [
    "#ROC curve for best hyperparameter\n",
    "fig = plt.figure()\n",
    "ax = fig.add_subplot(111)\n",
    "\n",
    "sns.lineplot(x=fpr_best, y=tpr_best, marker = 'o',color='red')\n",
    "plt.title(\"Receiver operating characteristic(ROC) curve\")\n",
    "plt.xlabel(\"False positive rate\")\n",
    "plt.ylabel(\"True positive rate\")\n",
    "plt.legend(labels=['Best Hyperparameter Value'])\n",
    "plt.show()"
   ]
  },
  {
   "cell_type": "code",
   "execution_count": 38,
   "metadata": {},
   "outputs": [
    {
     "name": "stdout",
     "output_type": "stream",
     "text": [
      "0.5964285714285714\n",
      "0.596487213019471\n"
     ]
    }
   ],
   "source": [
    "#computing auc for both models\n",
    "auc_default=auc(fpr_default,tpr_default)\n",
    "auc_best=auc(fpr_best,tpr_best)\n",
    "print(auc_default)\n",
    "print(auc_best)"
   ]
  },
  {
   "cell_type": "code",
   "execution_count": 39,
   "metadata": {},
   "outputs": [
    {
     "name": "stderr",
     "output_type": "stream",
     "text": [
      "/usr/local/lib/python3.6/dist-packages/sklearn/feature_selection/_univariate_selection.py:114: UserWarning: Features [6 7] are constant.\n",
      "  UserWarning)\n",
      "/usr/local/lib/python3.6/dist-packages/sklearn/feature_selection/_univariate_selection.py:115: RuntimeWarning: invalid value encountered in true_divide\n",
      "  f = msb / msw\n"
     ]
    },
    {
     "name": "stdout",
     "output_type": "stream",
     "text": [
      "Best 5 features:\n",
      "Index(['age', 'education-num', 'capital-gain', 'hours-per-week',\n",
      "       'marital-status__Married-civ-spouse', 'marital-status__Never-married',\n",
      "       'relationship__Husband', 'relationship__Own-child',\n",
      "       'sex_selfID__Female', 'sex_selfID__Non-Female'],\n",
      "      dtype='object')\n",
      "0.8683506663345373\n"
     ]
    }
   ],
   "source": [
    "#using selectkbest to find the 5 best features\n",
    "from sklearn.feature_selection import SelectKBest\n",
    "from sklearn.feature_selection import f_classif\n",
    "\n",
    "\n",
    "selector = SelectKBest(f_classif, k=10)\n",
    "selector.fit(X, y)\n",
    "filter = selector.get_support()\n",
    "top_5_features = X.columns[filter]\n",
    "\n",
    "print(\"Best 5 features:\")\n",
    "print(top_5_features)\n",
    "\n",
    "\n",
    "new_X_train = X_train[top_5_features]\n",
    "new_X_test = X_test[top_5_features]\n",
    "\n",
    "\n",
    "#Initializing a LR model object with the best value for c\n",
    "model=LogisticRegression(C=0.0002745039890973785,max_iter=1000)\n",
    "\n",
    "#Fitting the model to the new training data\n",
    "model.fit(new_X_train,y_train)\n",
    "\n",
    "proba_predictions=list(model.predict_proba(new_X_test)[:,1])\n",
    "    \n",
    "# Finding the auc-roc\n",
    "fpr, tpr, thresholds = roc_curve(y_test, proba_predictions,pos_label='>50K')\n",
    "auc_result = auc(fpr, tpr)\n",
    "print(auc_result)"
   ]
  },
  {
   "cell_type": "markdown",
   "metadata": {},
   "source": [
    "At k=5(the top 5 features), the auc stands at 0.85 but at k=10(10 best features), the auc increases to 0.868. The auc tells us how effective the model is at correctly classifying the positive and negative outcomes(income>50k or income<=50k). With an auc score of 0.868 at k=10, it can be said that with the 10 best features, the model makes predictions that are 86.8 percent correct."
   ]
  }
 ],
 "metadata": {
  "kernelspec": {
   "display_name": "Python 3",
   "language": "python",
   "name": "python3"
  },
  "language_info": {
   "codemirror_mode": {
    "name": "ipython",
    "version": 3
   },
   "file_extension": ".py",
   "mimetype": "text/x-python",
   "name": "python",
   "nbconvert_exporter": "python",
   "pygments_lexer": "ipython3",
   "version": "3.6.9"
  },
  "toc": {
   "base_numbering": 1,
   "nav_menu": {},
   "number_sections": false,
   "sideBar": true,
   "skip_h1_title": false,
   "title_cell": "Table of Contents",
   "title_sidebar": "Contents",
   "toc_cell": false,
   "toc_position": {},
   "toc_section_display": true,
   "toc_window_display": false
  },
  "varInspector": {
   "cols": {
    "lenName": 16,
    "lenType": 16,
    "lenVar": 40
   },
   "kernels_config": {
    "python": {
     "delete_cmd_postfix": "",
     "delete_cmd_prefix": "del ",
     "library": "var_list.py",
     "varRefreshCmd": "print(var_dic_list())"
    },
    "r": {
     "delete_cmd_postfix": ") ",
     "delete_cmd_prefix": "rm(",
     "library": "var_list.r",
     "varRefreshCmd": "cat(var_dic_list()) "
    }
   },
   "types_to_exclude": [
    "module",
    "function",
    "builtin_function_or_method",
    "instance",
    "_Feature"
   ],
   "window_display": false
  }
 },
 "nbformat": 4,
 "nbformat_minor": 2
}
